{
 "cells": [
  {
   "cell_type": "code",
   "execution_count": 16,
   "metadata": {},
   "outputs": [],
   "source": [
    "import pandas as pd\n",
    "import numpy as np"
   ]
  },
  {
   "cell_type": "code",
   "execution_count": 17,
   "metadata": {},
   "outputs": [],
   "source": [
    "import matplotlib.pyplot as plt\n",
    "import seaborn as sns\n",
    "\n",
    "%matplotlib inline"
   ]
  },
  {
   "cell_type": "code",
   "execution_count": 18,
   "metadata": {},
   "outputs": [],
   "source": [
    "from tensorflow.keras.models import Sequential\n",
    "from tensorflow.keras.layers import Dense,Convolution2D,Flatten,MaxPooling2D,Dropout\n",
    "from tensorflow.keras.preprocessing.image import ImageDataGenerator"
   ]
  },
  {
   "cell_type": "code",
   "execution_count": 19,
   "metadata": {},
   "outputs": [],
   "source": [
    "############ train and test ##################\n",
    "train_1 = ImageDataGenerator(rescale = 1./255, shear_range=0.2,zoom_range=0.2,horizontal_flip=True)\n",
    "test1 = ImageDataGenerator(rescale= 1./255)"
   ]
  },
  {
   "cell_type": "code",
   "execution_count": 20,
   "metadata": {},
   "outputs": [
    {
     "name": "stdout",
     "output_type": "stream",
     "text": [
      "Found 18322 images belonging to 10 classes.\n",
      "Found 7857 images belonging to 10 classes.\n"
     ]
    }
   ],
   "source": [
    "################### splitting train and test ######################\n",
    "X_train = train_1.flow_from_directory(r\"D:\\Smart Bridge\\Project\\data_set\\train\",target_size=(64,64),batch_size=256,class_mode=\"categorical\")\n",
    "X_test = test1.flow_from_directory(r\"D:\\Smart Bridge\\Project\\data_set\\val\",target_size=(64,64),batch_size=64,class_mode=\"categorical\")"
   ]
  },
  {
   "cell_type": "code",
   "execution_count": 21,
   "metadata": {},
   "outputs": [],
   "source": [
    "model = Sequential()"
   ]
  },
  {
   "cell_type": "code",
   "execution_count": 22,
   "metadata": {},
   "outputs": [],
   "source": [
    "model.add(Convolution2D(32,(3,3),input_shape=(64,64,3)))"
   ]
  },
  {
   "cell_type": "code",
   "execution_count": 23,
   "metadata": {},
   "outputs": [],
   "source": [
    "model.add(MaxPooling2D((2,2)))"
   ]
  },
  {
   "cell_type": "code",
   "execution_count": 24,
   "metadata": {},
   "outputs": [],
   "source": [
    "model.add(Flatten())"
   ]
  },
  {
   "cell_type": "code",
   "execution_count": 25,
   "metadata": {},
   "outputs": [],
   "source": [
    "from tensorflow.keras.callbacks import EarlyStopping"
   ]
  },
  {
   "cell_type": "code",
   "execution_count": 26,
   "metadata": {},
   "outputs": [],
   "source": [
    "es = EarlyStopping(monitor='val_loss',mode='min',verbose=1,patience=25)"
   ]
  },
  {
   "cell_type": "code",
   "execution_count": 27,
   "metadata": {},
   "outputs": [],
   "source": [
    "###### relu and softmax ###########\n",
    "\n",
    "model.add(Dense(128,activation=\"relu\"))\n",
    "model.add(Dropout(0.2))\n",
    "\n",
    "model.add(Dense(10,activation=\"softmax\"))"
   ]
  },
  {
   "cell_type": "code",
   "execution_count": 28,
   "metadata": {},
   "outputs": [],
   "source": [
    "model.compile(optimizer='adam',\n",
    "              loss='categorical_crossentropy',\n",
    "              metrics=['accuracy'])"
   ]
  },
  {
   "cell_type": "code",
   "execution_count": 29,
   "metadata": {},
   "outputs": [
    {
     "name": "stdout",
     "output_type": "stream",
     "text": [
      "Epoch 1/100\n",
      "71/71 [==============================] - 74s 1s/step - loss: 2.6780 - accuracy: 0.1975 - val_loss: 2.0048 - val_accuracy: 0.3025\n",
      "Epoch 2/100\n",
      "71/71 [==============================] - 78s 1s/step - loss: 1.9794 - accuracy: 0.3060 - val_loss: 1.9126 - val_accuracy: 0.3229\n",
      "Epoch 3/100\n",
      "71/71 [==============================] - 79s 1s/step - loss: 1.8700 - accuracy: 0.3458 - val_loss: 1.7914 - val_accuracy: 0.3779\n",
      "Epoch 4/100\n",
      "71/71 [==============================] - 81s 1s/step - loss: 1.8033 - accuracy: 0.3748 - val_loss: 1.6944 - val_accuracy: 0.4176\n",
      "Epoch 5/100\n",
      "71/71 [==============================] - 79s 1s/step - loss: 1.7421 - accuracy: 0.3940 - val_loss: 1.7150 - val_accuracy: 0.4083\n",
      "Epoch 6/100\n",
      "71/71 [==============================] - 80s 1s/step - loss: 1.7014 - accuracy: 0.4075 - val_loss: 1.6222 - val_accuracy: 0.4404\n",
      "Epoch 7/100\n",
      "71/71 [==============================] - 80s 1s/step - loss: 1.6629 - accuracy: 0.4272 - val_loss: 1.6436 - val_accuracy: 0.4373\n",
      "Epoch 8/100\n",
      "71/71 [==============================] - 80s 1s/step - loss: 1.6262 - accuracy: 0.4385 - val_loss: 1.6434 - val_accuracy: 0.4320\n",
      "Epoch 9/100\n",
      "71/71 [==============================] - 79s 1s/step - loss: 1.5943 - accuracy: 0.4504 - val_loss: 1.5589 - val_accuracy: 0.4665\n",
      "Epoch 10/100\n",
      "71/71 [==============================] - 79s 1s/step - loss: 1.5568 - accuracy: 0.4635 - val_loss: 1.6087 - val_accuracy: 0.4579\n",
      "Epoch 11/100\n",
      "71/71 [==============================] - 79s 1s/step - loss: 1.5409 - accuracy: 0.4719 - val_loss: 1.5779 - val_accuracy: 0.4660\n",
      "Epoch 12/100\n",
      "71/71 [==============================] - 79s 1s/step - loss: 1.5058 - accuracy: 0.4842 - val_loss: 1.5712 - val_accuracy: 0.4733\n",
      "Epoch 13/100\n",
      "71/71 [==============================] - 79s 1s/step - loss: 1.4673 - accuracy: 0.4988 - val_loss: 1.4841 - val_accuracy: 0.4950\n",
      "Epoch 14/100\n",
      "71/71 [==============================] - 79s 1s/step - loss: 1.4482 - accuracy: 0.5037 - val_loss: 1.5087 - val_accuracy: 0.4814\n",
      "Epoch 15/100\n",
      "71/71 [==============================] - 79s 1s/step - loss: 1.4154 - accuracy: 0.5135 - val_loss: 1.5225 - val_accuracy: 0.4909\n",
      "Epoch 16/100\n",
      "71/71 [==============================] - 79s 1s/step - loss: 1.4015 - accuracy: 0.5243 - val_loss: 1.5052 - val_accuracy: 0.4908\n",
      "Epoch 17/100\n",
      "71/71 [==============================] - 79s 1s/step - loss: 1.3745 - accuracy: 0.5338 - val_loss: 1.5458 - val_accuracy: 0.4825\n",
      "Epoch 18/100\n",
      "71/71 [==============================] - 79s 1s/step - loss: 1.3499 - accuracy: 0.5400 - val_loss: 1.4159 - val_accuracy: 0.5256\n",
      "Epoch 19/100\n",
      "71/71 [==============================] - 79s 1s/step - loss: 1.3297 - accuracy: 0.5448 - val_loss: 1.5465 - val_accuracy: 0.4923\n",
      "Epoch 20/100\n",
      "71/71 [==============================] - 79s 1s/step - loss: 1.3130 - accuracy: 0.5534 - val_loss: 1.4859 - val_accuracy: 0.5091\n",
      "Epoch 21/100\n",
      "71/71 [==============================] - 79s 1s/step - loss: 1.2882 - accuracy: 0.5632 - val_loss: 1.4464 - val_accuracy: 0.5203\n",
      "Epoch 22/100\n",
      "71/71 [==============================] - 79s 1s/step - loss: 1.2709 - accuracy: 0.5664 - val_loss: 1.4863 - val_accuracy: 0.5073\n",
      "Epoch 23/100\n",
      "71/71 [==============================] - 79s 1s/step - loss: 1.2648 - accuracy: 0.5633 - val_loss: 1.4594 - val_accuracy: 0.5272\n",
      "Epoch 24/100\n",
      "71/71 [==============================] - 79s 1s/step - loss: 1.2428 - accuracy: 0.5761 - val_loss: 1.5200 - val_accuracy: 0.5123\n",
      "Epoch 25/100\n",
      "71/71 [==============================] - 79s 1s/step - loss: 1.2165 - accuracy: 0.5827 - val_loss: 1.5514 - val_accuracy: 0.4989\n",
      "Epoch 26/100\n",
      "71/71 [==============================] - 79s 1s/step - loss: 1.2159 - accuracy: 0.5856 - val_loss: 1.6763 - val_accuracy: 0.4800\n",
      "Epoch 27/100\n",
      "71/71 [==============================] - 79s 1s/step - loss: 1.2058 - accuracy: 0.5931 - val_loss: 1.4820 - val_accuracy: 0.5057\n",
      "Epoch 28/100\n",
      "71/71 [==============================] - 79s 1s/step - loss: 1.1791 - accuracy: 0.5975 - val_loss: 1.4325 - val_accuracy: 0.5428\n",
      "Epoch 29/100\n",
      "71/71 [==============================] - 81s 1s/step - loss: 1.1602 - accuracy: 0.6022 - val_loss: 1.3997 - val_accuracy: 0.5405\n",
      "Epoch 30/100\n",
      "71/71 [==============================] - 79s 1s/step - loss: 1.1428 - accuracy: 0.6096 - val_loss: 1.4501 - val_accuracy: 0.5258\n",
      "Epoch 31/100\n",
      "71/71 [==============================] - 81s 1s/step - loss: 1.1369 - accuracy: 0.6098 - val_loss: 1.5167 - val_accuracy: 0.5189\n",
      "Epoch 32/100\n",
      "71/71 [==============================] - 81s 1s/step - loss: 1.1166 - accuracy: 0.6255 - val_loss: 1.4894 - val_accuracy: 0.5161\n",
      "Epoch 33/100\n",
      "71/71 [==============================] - 80s 1s/step - loss: 1.1004 - accuracy: 0.6271 - val_loss: 1.4821 - val_accuracy: 0.5203\n",
      "Epoch 34/100\n",
      "71/71 [==============================] - 81s 1s/step - loss: 1.1120 - accuracy: 0.6247 - val_loss: 1.4502 - val_accuracy: 0.5375\n",
      "Epoch 35/100\n",
      "71/71 [==============================] - 81s 1s/step - loss: 1.0918 - accuracy: 0.6295 - val_loss: 1.4717 - val_accuracy: 0.5258\n",
      "Epoch 36/100\n",
      "71/71 [==============================] - 81s 1s/step - loss: 1.0751 - accuracy: 0.6322 - val_loss: 1.4432 - val_accuracy: 0.5456\n",
      "Epoch 37/100\n",
      "71/71 [==============================] - 80s 1s/step - loss: 1.0576 - accuracy: 0.6407 - val_loss: 1.4884 - val_accuracy: 0.5256\n",
      "Epoch 38/100\n",
      "71/71 [==============================] - 80s 1s/step - loss: 1.0578 - accuracy: 0.6418 - val_loss: 1.5480 - val_accuracy: 0.5231\n",
      "Epoch 39/100\n",
      "71/71 [==============================] - 79s 1s/step - loss: 1.0384 - accuracy: 0.6449 - val_loss: 1.4284 - val_accuracy: 0.5544\n",
      "Epoch 40/100\n",
      "71/71 [==============================] - 80s 1s/step - loss: 1.0256 - accuracy: 0.6468 - val_loss: 1.5455 - val_accuracy: 0.5258\n",
      "Epoch 41/100\n",
      "71/71 [==============================] - 79s 1s/step - loss: 1.0204 - accuracy: 0.6509 - val_loss: 1.5244 - val_accuracy: 0.5351\n",
      "Epoch 42/100\n",
      "71/71 [==============================] - 79s 1s/step - loss: 1.0186 - accuracy: 0.6529 - val_loss: 1.5215 - val_accuracy: 0.5403\n",
      "Epoch 43/100\n",
      "71/71 [==============================] - 79s 1s/step - loss: 1.0042 - accuracy: 0.6590 - val_loss: 1.6134 - val_accuracy: 0.5194\n",
      "Epoch 44/100\n",
      "71/71 [==============================] - 79s 1s/step - loss: 0.9973 - accuracy: 0.6612 - val_loss: 1.4456 - val_accuracy: 0.5496\n",
      "Epoch 45/100\n",
      "71/71 [==============================] - 79s 1s/step - loss: 1.0052 - accuracy: 0.6575 - val_loss: 1.7328 - val_accuracy: 0.5171\n",
      "Epoch 46/100\n",
      "71/71 [==============================] - 79s 1s/step - loss: 0.9753 - accuracy: 0.6659 - val_loss: 1.5177 - val_accuracy: 0.5375\n",
      "Epoch 47/100\n",
      "71/71 [==============================] - 81s 1s/step - loss: 0.9838 - accuracy: 0.6635 - val_loss: 1.4897 - val_accuracy: 0.5459\n",
      "Epoch 48/100\n",
      "71/71 [==============================] - 79s 1s/step - loss: 0.9695 - accuracy: 0.6650 - val_loss: 1.5147 - val_accuracy: 0.5473\n",
      "Epoch 49/100\n",
      "71/71 [==============================] - 79s 1s/step - loss: 0.9627 - accuracy: 0.6701 - val_loss: 1.4818 - val_accuracy: 0.5557\n",
      "Epoch 50/100\n",
      "71/71 [==============================] - 79s 1s/step - loss: 0.9641 - accuracy: 0.6736 - val_loss: 1.4879 - val_accuracy: 0.5500\n",
      "Epoch 51/100\n",
      "71/71 [==============================] - 80s 1s/step - loss: 0.9400 - accuracy: 0.6808 - val_loss: 1.5043 - val_accuracy: 0.5472\n",
      "Epoch 52/100\n",
      "71/71 [==============================] - 81s 1s/step - loss: 0.9370 - accuracy: 0.6825 - val_loss: 1.5870 - val_accuracy: 0.5340\n",
      "Epoch 53/100\n",
      "71/71 [==============================] - 81s 1s/step - loss: 0.9443 - accuracy: 0.6746 - val_loss: 1.5400 - val_accuracy: 0.5418\n",
      "Epoch 54/100\n",
      "71/71 [==============================] - 82s 1s/step - loss: 0.9368 - accuracy: 0.6820 - val_loss: 1.4965 - val_accuracy: 0.5568\n",
      "Epoch 55/100\n",
      "71/71 [==============================] - 81s 1s/step - loss: 0.9346 - accuracy: 0.6813 - val_loss: 1.5372 - val_accuracy: 0.5539\n",
      "Epoch 56/100\n",
      "71/71 [==============================] - 81s 1s/step - loss: 0.9125 - accuracy: 0.6868 - val_loss: 1.5155 - val_accuracy: 0.5592\n",
      "Epoch 57/100\n",
      "71/71 [==============================] - 81s 1s/step - loss: 0.8946 - accuracy: 0.6959 - val_loss: 1.5518 - val_accuracy: 0.5463\n",
      "Epoch 58/100\n",
      "71/71 [==============================] - 81s 1s/step - loss: 0.8961 - accuracy: 0.6929 - val_loss: 1.5065 - val_accuracy: 0.5506\n"
     ]
    },
    {
     "name": "stdout",
     "output_type": "stream",
     "text": [
      "Epoch 59/100\n",
      "71/71 [==============================] - 81s 1s/step - loss: 0.8924 - accuracy: 0.6977 - val_loss: 1.6145 - val_accuracy: 0.5413\n",
      "Epoch 60/100\n",
      "71/71 [==============================] - 83s 1s/step - loss: 0.8913 - accuracy: 0.6973 - val_loss: 1.5499 - val_accuracy: 0.5461\n",
      "Epoch 61/100\n",
      "71/71 [==============================] - 79s 1s/step - loss: 0.8784 - accuracy: 0.7027 - val_loss: 1.4879 - val_accuracy: 0.5571\n",
      "Epoch 62/100\n",
      "71/71 [==============================] - 79s 1s/step - loss: 0.8746 - accuracy: 0.7030 - val_loss: 1.6531 - val_accuracy: 0.5403\n",
      "Epoch 63/100\n",
      "71/71 [==============================] - 79s 1s/step - loss: 0.8617 - accuracy: 0.7056 - val_loss: 1.5759 - val_accuracy: 0.5585\n",
      "Epoch 64/100\n",
      "71/71 [==============================] - 79s 1s/step - loss: 0.8546 - accuracy: 0.7064 - val_loss: 1.5090 - val_accuracy: 0.5623\n",
      "Epoch 65/100\n",
      "71/71 [==============================] - 79s 1s/step - loss: 0.8588 - accuracy: 0.7071 - val_loss: 1.5806 - val_accuracy: 0.5582\n",
      "Epoch 66/100\n",
      "71/71 [==============================] - 79s 1s/step - loss: 0.8479 - accuracy: 0.7095 - val_loss: 1.6624 - val_accuracy: 0.5474\n",
      "Epoch 67/100\n",
      "71/71 [==============================] - 79s 1s/step - loss: 0.8357 - accuracy: 0.7140 - val_loss: 1.5271 - val_accuracy: 0.5567\n",
      "Epoch 68/100\n",
      "71/71 [==============================] - 79s 1s/step - loss: 0.8415 - accuracy: 0.7135 - val_loss: 1.6823 - val_accuracy: 0.5416\n",
      "Epoch 69/100\n",
      "71/71 [==============================] - 79s 1s/step - loss: 0.8382 - accuracy: 0.7146 - val_loss: 1.6415 - val_accuracy: 0.5484\n",
      "Epoch 70/100\n",
      "71/71 [==============================] - 79s 1s/step - loss: 0.8199 - accuracy: 0.7202 - val_loss: 1.5529 - val_accuracy: 0.5539\n",
      "Epoch 71/100\n",
      "71/71 [==============================] - 79s 1s/step - loss: 0.8255 - accuracy: 0.7154 - val_loss: 1.6404 - val_accuracy: 0.5553\n",
      "Epoch 72/100\n",
      "71/71 [==============================] - 79s 1s/step - loss: 0.8077 - accuracy: 0.7231 - val_loss: 1.6231 - val_accuracy: 0.5519\n",
      "Epoch 73/100\n",
      "71/71 [==============================] - 87s 1s/step - loss: 0.8060 - accuracy: 0.7259 - val_loss: 1.6089 - val_accuracy: 0.5524\n",
      "Epoch 74/100\n",
      "71/71 [==============================] - 80s 1s/step - loss: 0.7976 - accuracy: 0.7287 - val_loss: 1.5649 - val_accuracy: 0.5620\n",
      "Epoch 75/100\n",
      "71/71 [==============================] - 79s 1s/step - loss: 0.8068 - accuracy: 0.7278 - val_loss: 1.5955 - val_accuracy: 0.5618\n",
      "Epoch 76/100\n",
      "71/71 [==============================] - 79s 1s/step - loss: 0.8072 - accuracy: 0.7222 - val_loss: 1.7055 - val_accuracy: 0.5484\n",
      "Epoch 77/100\n",
      "71/71 [==============================] - 79s 1s/step - loss: 0.8002 - accuracy: 0.7263 - val_loss: 1.5539 - val_accuracy: 0.5643\n",
      "Epoch 78/100\n",
      "71/71 [==============================] - 79s 1s/step - loss: 0.7997 - accuracy: 0.7224 - val_loss: 1.6137 - val_accuracy: 0.5572\n",
      "Epoch 79/100\n",
      "71/71 [==============================] - 79s 1s/step - loss: 0.7854 - accuracy: 0.7326 - val_loss: 1.6693 - val_accuracy: 0.5507\n",
      "Epoch 80/100\n",
      "71/71 [==============================] - 80s 1s/step - loss: 0.7773 - accuracy: 0.7303 - val_loss: 1.6209 - val_accuracy: 0.5576\n",
      "Epoch 81/100\n",
      "71/71 [==============================] - 80s 1s/step - loss: 0.7841 - accuracy: 0.7351 - val_loss: 1.6307 - val_accuracy: 0.5668\n",
      "Epoch 82/100\n",
      "71/71 [==============================] - 79s 1s/step - loss: 0.7761 - accuracy: 0.7322 - val_loss: 1.6877 - val_accuracy: 0.5559\n",
      "Epoch 83/100\n",
      "71/71 [==============================] - 79s 1s/step - loss: 0.7641 - accuracy: 0.7404 - val_loss: 1.6061 - val_accuracy: 0.5712\n",
      "Epoch 84/100\n",
      "71/71 [==============================] - 79s 1s/step - loss: 0.7581 - accuracy: 0.7409 - val_loss: 1.6616 - val_accuracy: 0.5559\n",
      "Epoch 85/100\n",
      "71/71 [==============================] - 79s 1s/step - loss: 0.7533 - accuracy: 0.7434 - val_loss: 1.6056 - val_accuracy: 0.5693\n",
      "Epoch 86/100\n",
      "71/71 [==============================] - 79s 1s/step - loss: 0.7596 - accuracy: 0.7363 - val_loss: 1.7723 - val_accuracy: 0.5472\n",
      "Epoch 87/100\n",
      "71/71 [==============================] - 79s 1s/step - loss: 0.7457 - accuracy: 0.7451 - val_loss: 1.5559 - val_accuracy: 0.5675\n",
      "Epoch 88/100\n",
      "71/71 [==============================] - 79s 1s/step - loss: 0.7591 - accuracy: 0.7434 - val_loss: 1.6921 - val_accuracy: 0.5552\n",
      "Epoch 89/100\n",
      "71/71 [==============================] - 80s 1s/step - loss: 0.7340 - accuracy: 0.7466 - val_loss: 1.6862 - val_accuracy: 0.5604\n",
      "Epoch 90/100\n",
      "71/71 [==============================] - 79s 1s/step - loss: 0.7304 - accuracy: 0.7488 - val_loss: 1.6964 - val_accuracy: 0.5638\n",
      "Epoch 91/100\n",
      "71/71 [==============================] - 79s 1s/step - loss: 0.7448 - accuracy: 0.7430 - val_loss: 1.7455 - val_accuracy: 0.5573\n",
      "Epoch 92/100\n",
      "71/71 [==============================] - 80s 1s/step - loss: 0.7294 - accuracy: 0.7510 - val_loss: 1.6859 - val_accuracy: 0.5558\n",
      "Epoch 93/100\n",
      "71/71 [==============================] - 81s 1s/step - loss: 0.7258 - accuracy: 0.7510 - val_loss: 1.8819 - val_accuracy: 0.5447\n",
      "Epoch 94/100\n",
      "71/71 [==============================] - 79s 1s/step - loss: 0.7341 - accuracy: 0.7514 - val_loss: 1.8034 - val_accuracy: 0.5414\n",
      "Epoch 95/100\n",
      "71/71 [==============================] - 82s 1s/step - loss: 0.7157 - accuracy: 0.7537 - val_loss: 1.7003 - val_accuracy: 0.5624\n",
      "Epoch 96/100\n",
      "71/71 [==============================] - 81s 1s/step - loss: 0.7234 - accuracy: 0.7539 - val_loss: 1.7111 - val_accuracy: 0.5575\n",
      "Epoch 97/100\n",
      "71/71 [==============================] - 81s 1s/step - loss: 0.7044 - accuracy: 0.7598 - val_loss: 1.7511 - val_accuracy: 0.5549\n",
      "Epoch 98/100\n",
      "71/71 [==============================] - 81s 1s/step - loss: 0.6993 - accuracy: 0.7572 - val_loss: 1.6719 - val_accuracy: 0.5519\n",
      "Epoch 99/100\n",
      "71/71 [==============================] - 81s 1s/step - loss: 0.7213 - accuracy: 0.7534 - val_loss: 1.6515 - val_accuracy: 0.5580\n",
      "Epoch 100/100\n",
      "71/71 [==============================] - 81s 1s/step - loss: 0.7125 - accuracy: 0.7583 - val_loss: 1.6337 - val_accuracy: 0.5682\n"
     ]
    },
    {
     "data": {
      "text/plain": [
       "<tensorflow.python.keras.callbacks.History at 0x1c101b20708>"
      ]
     },
     "execution_count": 29,
     "metadata": {},
     "output_type": "execute_result"
    }
   ],
   "source": [
    "model.fit(X_train,steps_per_epoch = 18322/256 , epochs = 100 , validation_data = X_test,validation_steps = 7857/64,shuffle=True )"
   ]
  },
  {
   "cell_type": "code",
   "execution_count": 30,
   "metadata": {},
   "outputs": [],
   "source": [
    " model.save(\"crop_animal_predict2.h5\")"
   ]
  },
  {
   "cell_type": "code",
   "execution_count": null,
   "metadata": {},
   "outputs": [],
   "source": []
  }
 ],
 "metadata": {
  "kernelspec": {
   "display_name": "Python 3",
   "language": "python",
   "name": "python3"
  },
  "language_info": {
   "codemirror_mode": {
    "name": "ipython",
    "version": 3
   },
   "file_extension": ".py",
   "mimetype": "text/x-python",
   "name": "python",
   "nbconvert_exporter": "python",
   "pygments_lexer": "ipython3",
   "version": "3.7.6"
  }
 },
 "nbformat": 4,
 "nbformat_minor": 4
}
